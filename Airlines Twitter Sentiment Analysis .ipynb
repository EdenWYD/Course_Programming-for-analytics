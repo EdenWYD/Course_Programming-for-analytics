{
 "cells": [
  {
   "cell_type": "code",
   "execution_count": 2,
   "metadata": {},
   "outputs": [],
   "source": [
    "from textblob import TextBlob\n",
    "import tweepy"
   ]
  },
  {
   "cell_type": "code",
   "execution_count": 3,
   "metadata": {},
   "outputs": [],
   "source": [
    "path = 'C:/Users/Yidan Wang/Documents/Python Scripts/class-13/'"
   ]
  },
  {
   "cell_type": "code",
   "execution_count": 4,
   "metadata": {},
   "outputs": [],
   "source": [
    "def getAuthData():\n",
    "    import csv\n",
    "    with open(path+'authdata.csv', 'r') as f:\n",
    "        reader = csv.reader(f)\n",
    "        your_list = list(reader)\n",
    "\n",
    "    authdata = {}   \n",
    "    for element in your_list:\n",
    "        authdata[element[0]] = element[1]\n",
    "\n",
    "    return authdata"
   ]
  },
  {
   "cell_type": "code",
   "execution_count": 5,
   "metadata": {},
   "outputs": [
    {
     "data": {
      "text/plain": [
       "{'CONSUMER_KEY': 'zsNoC4ZsLnQSdvbYmpjCeibUJ',\n",
       " 'CONSUMER_SECRET': 'qdBeyxuPHyiWO9gncnbxJZeFhfdaY3DLy20QzYIZ6TY7NypZ8U',\n",
       " 'OAUTH_TOKEN': '48672914-2WS7xSHmhZEzNpYJNrbPQK7WZR8efH7iJyb8OBMvk',\n",
       " 'OAUTH_TOKEN_SECRET': 'GcXyzT78FPGoZ0NJ97LR2tA2zUWg6syLCVxrXPZzqKetc'}"
      ]
     },
     "execution_count": 5,
     "metadata": {},
     "output_type": "execute_result"
    }
   ],
   "source": [
    "getAuthData()"
   ]
  },
  {
   "cell_type": "code",
   "execution_count": 6,
   "metadata": {},
   "outputs": [],
   "source": [
    "authdata = getAuthData()"
   ]
  },
  {
   "cell_type": "code",
   "execution_count": 7,
   "metadata": {},
   "outputs": [],
   "source": [
    "def getTwitterData(searchTerm, authdata):\n",
    "\n",
    "    consumer_key = authdata['CONSUMER_KEY']\n",
    "    consumer_secret = authdata['CONSUMER_SECRET']\n",
    "    access_token = authdata['OAUTH_TOKEN']\n",
    "    access_token_secret = authdata['OAUTH_TOKEN_SECRET']\n",
    "    \n",
    "    auth = tweepy.OAuthHandler(consumer_key, consumer_secret)\n",
    "    auth.set_access_token(access_token, access_token_secret)\n",
    "    api = tweepy.API(auth)\n",
    "    \n",
    "    searchCount = 1800 # The number of tweets you want ... you never get that !\n",
    "     \n",
    "    results = api.search(q=searchTerm, count=searchCount)\n",
    "\n",
    "    print(\"Search completed ...\")\n",
    "    \n",
    "    twts = []\n",
    "    for result in results:\n",
    "        twts.append(result.text)    \n",
    "\n",
    "    print(\"List of tweets assembled ... for \", searchTerm)    \n",
    "        \n",
    "    return (twts)\n",
    "    "
   ]
  },
  {
   "cell_type": "code",
   "execution_count": 8,
   "metadata": {},
   "outputs": [
    {
     "name": "stdout",
     "output_type": "stream",
     "text": [
      "Search completed ...\n",
      "List of tweets assembled ... for  @Delta\n",
      "Search completed ...\n",
      "List of tweets assembled ... for  @United\n",
      "Search completed ...\n",
      "List of tweets assembled ... for  @USAirways\n",
      "Search completed ...\n",
      "List of tweets assembled ... for  @Southwest\n",
      "Search completed ...\n",
      "List of tweets assembled ... for  @American\n",
      "Search completed ...\n",
      "List of tweets assembled ... for  @JetBlue\n"
     ]
    }
   ],
   "source": [
    "# Get and save twitter data\n",
    "tweetTexts = getTwitterData('@Delta', authdata)\n",
    "with open(path+'tw_delta.txt', 'w', encoding=\"utf-8\") as f:\n",
    "    for item in tweetTexts:\n",
    "        f.write(\"{}\\n\".format(item))  \n",
    "tweetTexts = getTwitterData('@United', authdata)\n",
    "with open(path+'tw_united.txt', 'w', encoding=\"utf-8\") as f:\n",
    "    for item in tweetTexts:\n",
    "        f.write(\"{}\\n\".format(item))  \n",
    "tweetTexts = getTwitterData('@USAirways', authdata)\n",
    "with open(path+'tw_usair.txt', 'w', encoding=\"utf-8\") as f:\n",
    "    for item in tweetTexts:\n",
    "        f.write(\"{}\\n\".format(item))  \n",
    "tweetTexts = getTwitterData('@Southwest', authdata)\n",
    "with open(path+'tw_southwest.txt', 'w', encoding=\"utf-8\") as f:\n",
    "    for item in tweetTexts:\n",
    "        f.write(\"{}\\n\".format(item))  \n",
    "tweetTexts = getTwitterData('@American', authdata)\n",
    "with open(path+'tw_american.txt', 'w', encoding=\"utf-8\") as f:\n",
    "    for item in tweetTexts:\n",
    "        f.write(\"{}\\n\".format(item))  \n",
    "tweetTexts = getTwitterData('@JetBlue', authdata)\n",
    "with open(path+'tw_jetblue.txt', 'w', encoding=\"utf-8\") as f:\n",
    "    for item in tweetTexts:\n",
    "        f.write(\"{}\\n\".format(item)) "
   ]
  },
  {
   "cell_type": "code",
   "execution_count": 10,
   "metadata": {},
   "outputs": [],
   "source": [
    "from textblob import TextBlob\n",
    "\n",
    "def GetSentimentScores(tweets):\n",
    "    freqList = []\n",
    "    for eachTweet in tweets:\n",
    "        analysis = TextBlob(eachTweet)\n",
    "        freqList.append(analysis.sentiment[0])\n",
    "    return freqList"
   ]
  },
  {
   "cell_type": "code",
   "execution_count": 9,
   "metadata": {},
   "outputs": [],
   "source": [
    "def getAirlineDataAlt():\n",
    "    airlineDict = {}\n",
    "    airlineDict = {'JetBlue':82, \n",
    "                   'Southwest':80,\n",
    "                   'American':76,\n",
    "                   'Delta':76,\n",
    "                   'United':70\n",
    "                  }\n",
    "    return airlineDict"
   ]
  },
  {
   "cell_type": "code",
   "execution_count": 11,
   "metadata": {},
   "outputs": [
    {
     "name": "stdout",
     "output_type": "stream",
     "text": [
      "{'JetBlue': 82, 'Southwest': 80, 'American': 76, 'Delta': 76, 'United': 70}\n"
     ]
    }
   ],
   "source": [
    "airlineScores = getAirlineDataAlt()\n",
    "print(airlineScores)"
   ]
  },
  {
   "cell_type": "code",
   "execution_count": 12,
   "metadata": {},
   "outputs": [],
   "source": [
    "def plotHist(freqList):\n",
    "    import matplotlib.pyplot as plt\n",
    "    plt.hist(freqList)\n",
    "\n",
    "def getTwitterScore(freqList):\n",
    "    veryNegative = len([x for x in freqList if x<=-0.6])\n",
    "    veryPositive = len([x for x in freqList if x>= 0.6])\n",
    "    twitterScore = 0\n",
    "    if ((veryNegative + veryPositive) != 0):\n",
    "        twitterScore = 100 * (float (veryPositive) / (veryNegative + veryPositive))\n",
    "    return round(twitterScore, 2)"
   ]
  },
  {
   "cell_type": "code",
   "execution_count": 13,
   "metadata": {},
   "outputs": [],
   "source": [
    "\n",
    "def getScore(fileName):\n",
    "    fn = path+fileName+'.txt'\n",
    "    with open(fn,'r',encoding=\"utf-8\") as f:\n",
    "        tweetTexts = f.readlines()\n",
    "        \n",
    "    freqList = GetSentimentScores(tweetTexts)\n",
    "    #print(freqList)\n",
    "    score = getTwitterScore(freqList)\n",
    "    return score"
   ]
  },
  {
   "cell_type": "code",
   "execution_count": 14,
   "metadata": {},
   "outputs": [
    {
     "name": "stdout",
     "output_type": "stream",
     "text": [
      "{'American': 66.67, 'Delta': 86.67, 'JetBlue': 97.5, 'Southwest': 29.17, 'United': 82.35, 'USAirways': 0}\n"
     ]
    }
   ],
   "source": [
    "scores = {}\n",
    "\n",
    "scores = {'American': getScore('tw_american'),\n",
    "          'Delta': getScore('tw_delta'),\n",
    "          'JetBlue':  getScore('tw_jetblue'),\n",
    "          'Southwest': getScore('tw_southwest'),\n",
    "          'United': getScore('tw_united'),\n",
    "          'USAirways': getScore('tw_usair')\n",
    "         }\n",
    "\n",
    "print(scores)"
   ]
  },
  {
   "cell_type": "code",
   "execution_count": 16,
   "metadata": {},
   "outputs": [
    {
     "name": "stdout",
     "output_type": "stream",
     "text": [
      "           twitter_Score\n",
      "American           66.67\n",
      "Delta              86.67\n",
      "JetBlue            97.50\n",
      "Southwest          29.17\n",
      "United             82.35\n",
      "USAirways           0.00\n"
     ]
    }
   ],
   "source": [
    "\n",
    "import pandas as pd\n",
    "twdf = pd.DataFrame.from_dict(scores, orient='index')\n",
    "twdf.columns = ['twitter_Score']\n",
    "print(twdf)"
   ]
  },
  {
   "cell_type": "code",
   "execution_count": 17,
   "metadata": {},
   "outputs": [
    {
     "name": "stdout",
     "output_type": "stream",
     "text": [
      "           airline_Score\n",
      "JetBlue               82\n",
      "Southwest             80\n",
      "American              76\n",
      "Delta                 76\n",
      "United                70\n"
     ]
    }
   ],
   "source": [
    "import pandas as pd\n",
    "airdf = pd.DataFrame.from_dict(airlineScores, orient='index')\n",
    "airdf.columns = ['airline_Score']\n",
    "print(airdf)"
   ]
  },
  {
   "cell_type": "code",
   "execution_count": 18,
   "metadata": {},
   "outputs": [],
   "source": [
    "result = pd.concat([twdf, airdf], axis=1, join='inner')"
   ]
  },
  {
   "cell_type": "code",
   "execution_count": 20,
   "metadata": {},
   "outputs": [
    {
     "name": "stdout",
     "output_type": "stream",
     "text": [
      "           twitter_Score  airline_Score\n",
      "American           66.67             76\n",
      "Delta              86.67             76\n",
      "JetBlue            97.50             82\n",
      "Southwest          29.17             80\n",
      "United             82.35             70\n"
     ]
    }
   ],
   "source": [
    "print(result)"
   ]
  },
  {
   "cell_type": "code",
   "execution_count": 21,
   "metadata": {},
   "outputs": [
    {
     "data": {
      "text/plain": [
       "<matplotlib.collections.PathCollection at 0x20faa8f50b8>"
      ]
     },
     "execution_count": 21,
     "metadata": {},
     "output_type": "execute_result"
    },
    {
     "data": {
      "image/png": "[encoded data removed]",
      "text/plain": [
       "<Figure size 432x288 with 1 Axes>"
      ]
     },
     "metadata": {},
     "output_type": "display_data"
    }
   ],
   "source": [
    "%matplotlib inline\n",
    "import matplotlib.pyplot as plt\n",
    "plt.scatter(result['twitter_Score'], result['airline_Score'])"
   ]
  },
  {
   "cell_type": "code",
   "execution_count": null,
   "metadata": {},
   "outputs": [],
   "source": []
  },
  {
   "cell_type": "code",
   "execution_count": null,
   "metadata": {},
   "outputs": [],
   "source": []
  },
  {
   "cell_type": "code",
   "execution_count": null,
   "metadata": {},
   "outputs": [],
   "source": []
  }
 ],
 "metadata": {
  "kernelspec": {
   "display_name": "Python 3",
   "language": "python",
   "name": "python3"
  },
  "language_info": {
   "codemirror_mode": {
    "name": "ipython",
    "version": 3
   },
   "file_extension": ".py",
   "mimetype": "text/x-python",
   "name": "python",
   "nbconvert_exporter": "python",
   "pygments_lexer": "ipython3",
   "version": "3.6.5"
  }
 },
 "nbformat": 4,
 "nbformat_minor": 2
}
